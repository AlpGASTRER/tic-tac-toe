{
 "cells": [
  {
   "cell_type": "markdown",
   "metadata": {},
   "source": [
    "<img src=\"cover.png\" alt=\"\">"
   ]
  },
  {
   "cell_type": "markdown",
   "metadata": {},
   "source": [
    "1. function to print the game board to the console. This function should take the game board as a parameter and use loops to iterate through \n",
    "   the rows and columns of the board, printing each square in the appropriate location"
   ]
  },
  {
   "cell_type": "code",
   "execution_count": 9,
   "metadata": {},
   "outputs": [],
   "source": [
    "#game board\n",
    "board = [\n",
    "    ['','',''], #row 1 = 1 2 3\n",
    "    ['','',''], #row 2 = 4 5 6\n",
    "    ['','','']  #row 3 = 7 8 9\n",
    "        ]\n"
   ]
  },
  {
   "cell_type": "code",
   "execution_count": 10,
   "metadata": {},
   "outputs": [],
   "source": [
    "def game_board(board):    \n",
    "    for row in board:\n",
    "        print(' | '.join(row))\n",
    "        print('-' * 9)"
   ]
  },
  {
   "cell_type": "code",
   "execution_count": 11,
   "metadata": {},
   "outputs": [
    {
     "name": "stdout",
     "output_type": "stream",
     "text": [
      " |  | \n",
      "---------\n",
      " |  | \n",
      "---------\n",
      " |  | \n",
      "---------\n"
     ]
    }
   ],
   "source": [
    "game_board(board)"
   ]
  },
  {
   "cell_type": "markdown",
   "metadata": {},
   "source": [
    "2. function to handle player moves. This function should take the game board and the current player's symbol as parameters, prompt the player\n",
    "   for their move (using input()), and update the game board with the player's symbol in the appropriate location. "
   ]
  },
  {
   "cell_type": "code",
   "execution_count": 12,
   "metadata": {},
   "outputs": [],
   "source": [
    "def player_move(board,player_symbol):\n",
    "\n",
    "    while True:\n",
    "        try:\n",
    "            #inputs\n",
    "            row = int(input(\"Enter the row number (1, 2, or 3): \")) - 1\n",
    "            col = int(input(\"Enter the column number (1, 2, or 3): \")) - 1\n",
    "            \n",
    "            #validating the inputs\n",
    "            if 0 <= row < 3 and 0 <= col < 3 :\n",
    "                \n",
    "                #validate if the board cell is empty\n",
    "                if board[row][col] == '':\n",
    "                    board[row][col] = player_symbol\n",
    "                    game_board(board)\n",
    "                    break\n",
    "                else:\n",
    "                    print(\"that cell is occupied\")\n",
    "            \n",
    "            else:\n",
    "                print(\"Invalid input. accepting only (1,2,3).\\n\")\n",
    "        except ValueError:\n",
    "            print(\"Invalid input. Please enter a number.\\n\")\n",
    "            \n",
    "        "
   ]
  },
  {
   "cell_type": "markdown",
   "metadata": {},
   "source": [
    "3. function to check for a win. This function should take the game board and the current player's symbol as parameters and check if any of\n",
    "   the rows, columns, or diagonals of the board contain three of the player's symbols in a row."
   ]
  },
  {
   "cell_type": "code",
   "execution_count": 13,
   "metadata": {},
   "outputs": [],
   "source": [
    "def check_win(board,player_symbol):\n",
    "    \n",
    "    # Check rows for a win\n",
    "    for row in board:\n",
    "        if all(symbol == player_symbol for symbol in row):\n",
    "            print(player_symbol, 'wins')\n",
    "            return False\n",
    "\n",
    "    # Check columns for a win\n",
    "    for col in range(3):\n",
    "        if all(board[row][col] == player_symbol for row in range(3)):\n",
    "            print(player_symbol, ' WON!!!!')\n",
    "            return False\n",
    "\n",
    "    # Check diagonals for a win\n",
    "    if all(board[i][i] == player_symbol for i in range(3)) or all(board[i][2-i] == player_symbol for i in range(3)):\n",
    "        print(player_symbol, ' WON!!!!')\n",
    "        return False\n"
   ]
  },
  {
   "cell_type": "markdown",
   "metadata": {},
   "source": [
    "4. function to check for a tie. This function should take the game board as a parameter and check if every square on the board has been filled"
   ]
  },
  {
   "cell_type": "code",
   "execution_count": 14,
   "metadata": {},
   "outputs": [],
   "source": [
    "def check_tie(board,player_symbol):\n",
    "\n",
    "    for row in board:\n",
    "        for player_symbol in row:\n",
    "            if player_symbol not in ['X', 'O']:\n",
    "                return True\n",
    "    print(\"TIE!!!!\")\n",
    "    return False\n"
   ]
  },
  {
   "cell_type": "markdown",
   "metadata": {},
   "source": [
    "5. main game loop that alternates between the two players\n",
    "\n",
    "In each iteration of the loop, print the current state of the game board, prompt the current player for their move, update the game board with the player's symbol, and check if the game has been won or tied"
   ]
  },
  {
   "cell_type": "code",
   "execution_count": 15,
   "metadata": {},
   "outputs": [],
   "source": [
    "# switching between players\n",
    "def switch_player(current_player):\n",
    "    return 'X' if current_player == 'O' else 'O'\n"
   ]
  },
  {
   "cell_type": "code",
   "execution_count": 16,
   "metadata": {},
   "outputs": [],
   "source": [
    "def main_game():  #the main menu\n",
    "    print(\"TIC TAC TOE \")\n",
    "    game_board(board) #summon the board\n",
    "\n",
    "    playing = True #flag, when check_win or check_tie returns false, it will stop the loop\n",
    "\n",
    "    player = 'X'\n",
    "    while playing :\n",
    "        \n",
    "        print(f\"player {player} is your turn \\n\")\n",
    "        \n",
    "        \n",
    "        player_move(board,player)           #player will move\n",
    "        \n",
    "        playing = check_win(board,player)   #checking win\n",
    "        if playing == False:\n",
    "            break\n",
    "        \n",
    "        playing = check_tie(board,player)   #check tie\n",
    "        if playing == False:\n",
    "            break\n",
    "        \n",
    "        player  = switch_player(player)     #switching\n"
   ]
  },
  {
   "cell_type": "code",
   "execution_count": 17,
   "metadata": {},
   "outputs": [],
   "source": [
    "#check if user wants to play again or not\n",
    "def repeat():\n",
    "    while True:\n",
    "        user_inpt = input(\"yes/no or 1/0\")\n",
    "        \n",
    "        if user_inpt.lower() not in ['yes','no','1','0']:\n",
    "            print(\"invalid input\")\n",
    "            \n",
    "        elif user_inpt.lower() in ['yes','1']:\n",
    "            return True\n",
    "            \n",
    "        elif user_inpt.lower() in ['no','0']:\n",
    "            return False\n",
    "        \n",
    "        else :\n",
    "            print(\"invalid input\")\n",
    "    "
   ]
  },
  {
   "cell_type": "code",
   "execution_count": null,
   "metadata": {},
   "outputs": [],
   "source": [
    "running = True\n",
    "\n",
    "while running:\n",
    "    \n",
    "    main_game() #starting the game\n",
    "    \n",
    "    print(\"do u want to play again? \\n (yes or 1 if u want to play again) \\n (no or 0 if not)\")\n",
    "    \n",
    "    running = repeat() #to replay the game\n",
    "    \n",
    "    if running == False:\n",
    "        print(\"Good Bye\")\n",
    "        break"
   ]
  }
 ],
 "metadata": {
  "kernelspec": {
   "display_name": "base",
   "language": "python",
   "name": "python3"
  },
  "language_info": {
   "codemirror_mode": {
    "name": "ipython",
    "version": 3
   },
   "file_extension": ".py",
   "mimetype": "text/x-python",
   "name": "python",
   "nbconvert_exporter": "python",
   "pygments_lexer": "ipython3",
   "version": "3.10.9"
  },
  "orig_nbformat": 4
 },
 "nbformat": 4,
 "nbformat_minor": 2
}
